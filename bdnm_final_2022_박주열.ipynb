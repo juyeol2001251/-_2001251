{
  "nbformat": 4,
  "nbformat_minor": 0,
  "metadata": {
    "colab": {
      "provenance": [],
      "include_colab_link": true
    },
    "kernelspec": {
      "name": "python3",
      "display_name": "Python 3"
    },
    "language_info": {
      "name": "python"
    }
  },
  "cells": [
    {
      "cell_type": "markdown",
      "metadata": {
        "id": "view-in-github",
        "colab_type": "text"
      },
      "source": [
        "<a href=\"https://colab.research.google.com/github/juyeol2001251/-_2001251/blob/main/bdnm_final_2022_%EB%B0%95%EC%A3%BC%EC%97%B4.ipynb\" target=\"_parent\"><img src=\"https://colab.research.google.com/assets/colab-badge.svg\" alt=\"Open In Colab\"/></a>"
      ]
    },
    {
      "cell_type": "markdown",
      "source": [
        "# 1. 삼각함수 클래스를 만들고 함수 그리기\n",
        "\n",
        "수업 시간에 삼각함수 중 sine 함수를 만들고 그려주는 클래스를 학습하였습니다.\n",
        "\n",
        "학습한 것을 응용하여 다음을 수행하세요.\n",
        "\n",
        "(1) trig_fn 라는 이름으로 삼각함수 클래스를 만드세요.\n",
        "\n",
        "(2) generate_x_y 함수에서 메개변수 opt를 입력받고, \n",
        "\n",
        "opt가 1이면 sine함수를,\n",
        "\n",
        "opt가 2이면 cosine함수를,\n",
        "\n",
        "opt가 3이면 tangent함수를 생성하세요.\n",
        "\n",
        "opt를 입력받지 못한 경우에는 sine함수를 생성합니다.\n",
        "\n",
        "(3) trig_fn 클래스를 상속받아 g1 객체를 만들고 opt를 조절해서 sine, cosine, tangent 함수들을 각각 그립니다. 이 때 삼각함수의 x축 범위는 0부터 2*pi까지 이고, 100개의 포인트를 만듭니다.\n",
        "\n",
        "**(기본 코드는 아래에 제공됩니다. 여러분이 작성해야 할 부분을 잘 작성하면 됩니다.)**"
      ],
      "metadata": {
        "id": "wkgXkqOBoCNf"
      }
    },
    {
      "cell_type": "code",
      "source": [
        "import math\n",
        "import matplotlib.pyplot as plt"
      ],
      "metadata": {
        "id": "itCB4k2HoExA"
      },
      "execution_count": null,
      "outputs": []
    },
    {
      "cell_type": "code",
      "source": [
        "class trig_fn:\n",
        "  # 매게변수 st, ed, n을 입력받아옴\n",
        "  def setting(self, st, ed, n):\n",
        "    self.st = st\n",
        "    self.ed = ed\n",
        "    self.n = n\n",
        "  ####### 여러분이 작성하세요. #######\n",
        "  # 문제의 요구조건(2)를 수행하는 generate_x_y 함수를 만드세요.\n",
        "  def generate_x_y(self, opt):\n",
        "    self.x = []\n",
        "    self.y = []\n",
        "    self.dx = (self.ed-self.st)/(self.n-1)\n",
        "    for i in range(self.n):\n",
        "      x_ = self.st + self.dx*i\n",
        "      self.x.append(x_)\n",
        "      if opt == 1:\n",
        "        self.y.append(math.sin(x_))\n",
        "        # 이 부분에 작성\n",
        "      elif opt == 2:\n",
        "        self.y.append(math.cos(x_))\n",
        "        # 이 부분에 작성\n",
        "      elif opt == 3:\n",
        "        self.y.append(math.tan(x_))\n",
        "        # 이 부분에 작성\n",
        "      else:\n",
        "        self.y.append(math.sin(x_))\n",
        "        # 이 부분에 작성\n",
        "  ###################################\n",
        "\n",
        "  # 결과를 출력함\n",
        "  def plot(self):\n",
        "    plt.plot(self.x,self.y)\n",
        "    plt.show()"
      ],
      "metadata": {
        "id": "d92sOfD8oU3A"
      },
      "execution_count": null,
      "outputs": []
    },
    {
      "cell_type": "code",
      "source": [
        "####### 여러분이 작성하세요. #######\n",
        "# g1 객체를 상속받고 문제의 요구조건(3)에 따라 결과를 출력하세요.\n",
        "opt = 1\n",
        "g1 = trig_fn()\n",
        "g1.setting(0, 2*math.pi, 100)\n",
        "g1.generate_x_y(opt)\n",
        "g1.plot()\n",
        "\n",
        "opt = 2\n",
        "g1 = trig_fn()\n",
        "g1.setting(0, 2*math.pi, 100)\n",
        "g1.generate_x_y(opt)\n",
        "g1.plot()\n",
        "\n",
        "opt = 3\n",
        "g1 = trig_fn()\n",
        "g1.setting(0, 2*math.pi, 100)\n",
        "g1.generate_x_y(opt)\n",
        "g1.plot()\n",
        "\n",
        "opt = 0\n",
        "g1 = trig_fn()\n",
        "g1.setting(0, 2*math.pi, 100)\n",
        "g1.generate_x_y(opt)\n",
        "g1.plot()\n",
        "###################################"
      ],
      "metadata": {
        "id": "QBSivyDGqIPq",
        "colab": {
          "base_uri": "https://localhost:8080/",
          "height": 1000
        },
        "outputId": "62c3428c-fef4-48b4-8991-6b3c8732790e"
      },
      "execution_count": null,
      "outputs": [
        {
          "output_type": "display_data",
          "data": {
            "text/plain": [
              "<Figure size 432x288 with 1 Axes>"
            ],
            "image/png": "[encoded data removed]"
          },
          "metadata": {
            "needs_background": "light"
          }
        },
        {
          "output_type": "display_data",
          "data": {
            "text/plain": [
              "<Figure size 432x288 with 1 Axes>"
            ],
            "image/png": "[encoded data removed]"
          },
          "metadata": {
            "needs_background": "light"
          }
        },
        {
          "output_type": "display_data",
          "data": {
            "text/plain": [
              "<Figure size 432x288 with 1 Axes>"
            ],
            "image/png": "[encoded data removed]"
          },
          "metadata": {
            "needs_background": "light"
          }
        },
        {
          "output_type": "display_data",
          "data": {
            "text/plain": [
              "<Figure size 432x288 with 1 Axes>"
            ],
            "image/png": "[encoded data removed]"
          },
          "metadata": {
            "needs_background": "light"
          }
        }
      ]
    },
    {
      "cell_type": "markdown",
      "metadata": {
        "id": "t65M9EnLncCs"
      },
      "source": [
        "# 2. Monte Carlo simulation으로 주사위 놀이 만들기\n",
        "\n",
        "Monte Carlo simulation은 확률적인 이벤트 발생이 있는 문제를 풀기 위해 domain에 랜덤하게 점을 찍는 전산 알고리즘입니다.\n",
        "\n",
        "주사위 놀이가 있습니다. 두 개의 주사위를 던져서 같은 숫자가 나오면 여러분이 이기고 그렇지 않으면 카지노가 이기는 간단한 게임입니다.\n",
        "\n",
        "Monte Carlo simulation을 통해 이 주사위 놀이를 재현해봅시다.\n",
        "\n",
        "(1) 1부터 6까지 숫자가 적혀있는 정육면체 주사위 2개 (die_1, die_2)를 준비합니다. 각 주사위에서 1, 2, 3, 4, 5, 6 중 하나의 숫자를 랜덤하게 얻을 수 있습니다. 따라서 두 주사위에서는 총 36가지 경우의 수가 발생합니다.\n",
        "\n",
        "(2) 여러분이 이기기 위해서는 두 주사위를 던져서 같은 숫자가 나와야 합니다. 따라서 카지노는 30가지 이기는 경우의 수가 있고, 여러분은 6가지 이기는 경우의 수(1-1, 2-2, 3-3, 4-4, 5-5, 6-6)가 있습니다. 딱 봐도 카지노가 많이 유리합니다. 도박하면 안됩니다.\n",
        "\n",
        "(3) 여러분이 이기는 경우를 참(True)으로 지는 경우를 거짓(False)로 구분하는 주사위 굴리기 함수(roll_dice)를 만들어보세요. 즉, 두 주사위의 숫자가 같으면 참(same_num = True), 다르면 거짓(same_num = False)으로 하면 됩니다.\n",
        "\n",
        "**(기본 코드는 아래에 제공됩니다. 여러분이 작성해야 할 부분을 잘 작성하면 됩니다.)**"
      ]
    },
    {
      "cell_type": "code",
      "metadata": {
        "id": "9ZbfClR-nDra"
      },
      "source": [
        "import matplotlib.pyplot as plt\n",
        "import random"
      ],
      "execution_count": null,
      "outputs": []
    },
    {
      "cell_type": "code",
      "metadata": {
        "id": "-HUWhRXKpWk8"
      },
      "source": [
        "# roll_dice (주사위 굴리기) 함수를 생성\n",
        "# 주사위들이 같은 숫자인지 아닌지 판명하여 참(여러분이 이기는 경우)/거짓을 반환\n",
        "def roll_dice():\n",
        "  # 1~6 사이의 임의의 정수를 두 주사위(die_1, die_2)에 할당\n",
        "  die_1 = random.randint(1,6)\n",
        "  die_2 = random.randint(1,6)\n",
        "\n",
        "  # 주사위들(die_1, die_2)이 같은 숫자인지 아닌지 판명(if 문)하여 same_num에 True 혹은 False를 할당\n",
        "  ####### 여러분이 작성하세요. #######\n",
        "\n",
        "  if die_1 == die_2:\n",
        "    same_num = True\n",
        "  else:\n",
        "   same_num = False\n",
        "\n",
        "  ####################################\n",
        "\n",
        "  # same_num을 반환하여 여러분이 이겼는지 아닌지를 알려줍니다.\n",
        "  return same_num"
      ],
      "execution_count": null,
      "outputs": []
    },
    {
      "cell_type": "markdown",
      "source": [
        "자! 게임판은 준비가 되었습니다.\n",
        "\n",
        "(1) 여러분은 각자 \\$1,000의 잔고(balance)를 가지고 시작합니다. 베팅(bet), 즉 두 주사위를 한번 굴릴 때(roll)마다 \\$1 씩 사용됩니다(bet = 1). 가지고 온 돈만 사용한다면 총 1,000번의 roll이 가능하겠네요(max_num_rolls = 1000).\n",
        "\n",
        "(2) 다만 여러분이 주사위를 굴려서 같은 숫자가 나온다면 (즉, roll_dice()함수를 호출해서 True를 반환받는다면) bet한 돈의 4배, 즉 \\$4를 획득합니다.\n",
        "\n",
        "예를 들어, 첫번째 roll에서 이긴다면 여러분의 잔고(balance)가 \\$1,004가 되겠지요. 엄청난 행운으로 1,000번을 연속으로 모두 이긴다면 여러분의 잔고는 \\$5,000이 됩니다! 물론 모든 판을 다 지면... 무일푼으로 집에 가게 됩니다. 다시 말하지만, 도박하면 안됩니다.\n",
        "\n",
        "해당 조건들을 다음과 같이 implementation합니다."
      ],
      "metadata": {
        "id": "zQ36w7H4_zIt"
      }
    },
    {
      "cell_type": "code",
      "source": [
        "# 입력값 (Monte Carlo simulation을 100번 수행합니다.)\n",
        "num_simulations = 100\n",
        "max_num_rolls = 1000\n",
        "bet = 1\n",
        "\n",
        "# 진행상황 변수\n",
        "# 이긴 확률(win_probability)과 최종 잔고(end_balance)를 각각 빈 array로 만들고 게임이 반복되면서 결과를 추가합니다.\n",
        "win_probability = []\n",
        "end_balance = []\n"
      ],
      "metadata": {
        "id": "X0LNkkyF6Hfm"
      },
      "execution_count": null,
      "outputs": []
    },
    {
      "cell_type": "markdown",
      "metadata": {
        "id": "BkDenuIgqiMu"
      },
      "source": [
        "**Monte Carlo simulation**\n",
        "\n",
        "(1) for-loop를 사용하여 num_simulations만큼의 시뮬레이션을 반복합니다.\n",
        "초기 잔고(balance)는 1000 입니다.\n",
        "\n",
        "(2) 내부에서 while-loop를 사용하여 1,000번의 게임(rolls)을 합니다.\n",
        "\n",
        "**(기본 코드는 아래에 제공됩니다. 여러분이 작성해야 할 부분을 잘 작성하면 됩니다.)**"
      ]
    },
    {
      "cell_type": "code",
      "metadata": {
        "id": "qYcl-JArqIK0",
        "colab": {
          "base_uri": "https://localhost:8080/",
          "height": 265
        },
        "outputId": "1e3423ba-3f18-4a93-92fe-f4d4eec7467a"
      },
      "source": [
        "#######for-loop 시작#######\n",
        "for i in range(num_simulations):\n",
        "  balance = [1000]\n",
        "  num_rolls = [0]\n",
        "  num_wins = 0\n",
        "\n",
        "  # 총 1,000번을 반복해서 게임을 합니다. 이길 때마다 4*bet의 잔고가 추가되고 지면 -bet씩 추가됩니다.\n",
        "  # 1. num_rolls[-1], 즉 num_rolls 배열의 가장 마지막 값이 max_num_rolls 보다 작은 동안 while-loop가 진행되도록 하세요.\n",
        "  ####### 여러분이 작성하세요. while-loop 시작#######\n",
        "  while num_rolls[-1] < max_num_rolls:\n",
        "  ####################################\n",
        "    # 2. roll_dice() 함수를 호출하여 결과(True or False)를 same_num에 저장합니다. 한 번 roll을 한 셈입니다.\n",
        "    same_num = roll_dice()\n",
        "\n",
        "    ####### 여러분이 작성하세요. #######\n",
        "    # 3. same_num의 참, 거짓을 판별(if 문)하여,\n",
        "    #    이겼다면 balance 배열의 마지막에 저장된 값에 4*bet를 더해서 balance 배열 끝에 저장 공간을 늘려서 그대로 넣고, 승리 횟수(num_wins)를 1만큼 증가시킵니다.\n",
        "    #    그렇지않다면(else), 즉 졌다면 balance 배열의 마지막 저장값에 -bet을 해서 배열 끝에 저장 공간을 늘려서 넣습니다.\n",
        "    #    이미 만들어진 배열 끝에 계속 저장공간을 늘려서 새로운 값을 넣어야 합니다. 관련 함수는 수업시간에 배웠습니다.\n",
        "    if same_num:\n",
        "      balance.append(balance[-1] + 4 * bet)\n",
        "      num_wins += 1\n",
        "\n",
        "    else:\n",
        "      balance.append(balance[-1] - bet)\n",
        "\n",
        "    # 4. num_rolls 배열의 마지막에 저장된 값(최종 roll 수)에 1을 더해서 배열 끝에 저장 공간을 늘려서 그대로 넣습니다.\n",
        "    #    while-loop 동안 roll의 수를 계속 하나씩 늘리되, 저장 공간을 추가해서 저장하는 방식입니다.\n",
        "    #    즉, num_rolls 배열이 [0, 1, 2, 3, 4, ...] 이런 식으로 만들어질 것입니다.    \n",
        "    num_rolls.append(num_rolls[-1] + 1)\n",
        "    ####################################\n",
        "  ####### while-loop 종료#######\n",
        "\n",
        "  ####### 여러분이 작성하세요. #######\n",
        "  # 5. 진행상황 변수들을 업데이트합니다.\n",
        "  #    이긴 확률 배열(win_probability)에 한 회 simulation 후 이긴 확률(num_wins/num_rolls[-1])을 저장 공간을 추가해서 넣으세요.\n",
        "  #    최종잔고 배열(end_balance)에 한 회 simulation 후 잔고(while-loop에서 업데이트된 balance의 마지막 저장값, 즉 balance[-1])를 저장 공간을 추가해서 넣으세요.\n",
        "    win_probability.append(num_wins/num_rolls[-1])\n",
        "    end_balance.append(balance[-1])\n",
        "  ####################################\n",
        "\n",
        "  # 6. num_rolls와 balance 배열을 매 simulation마다 출력합니다.\n",
        "  plt.plot(num_rolls, balance)\n",
        "#######for-loop 종료#######"
      ],
      "execution_count": null,
      "outputs": [
        {
          "output_type": "display_data",
          "data": {
            "text/plain": [
              "<Figure size 432x288 with 1 Axes>"
            ],
            "image/png": "[encoded data removed]"
          },
          "metadata": {
            "needs_background": "light"
          }
        }
      ]
    },
    {
      "cell_type": "markdown",
      "source": [
        "Implementation을 잘 완료했다면 다음을 실행시켜서 결과를 출력하세요."
      ],
      "metadata": {
        "id": "ay81YHIEHFzu"
      }
    },
    {
      "cell_type": "code",
      "metadata": {
        "id": "VHC-Rnyislou",
        "colab": {
          "base_uri": "https://localhost:8080/"
        },
        "outputId": "b3c29d92-c07e-469d-8fc2-4dfd03082354"
      },
      "source": [
        "overall_win_probability = sum(win_probability)/len(win_probability)\n",
        "overall_end_balance = sum(end_balance)/len(end_balance)\n",
        "\n",
        "print(\"Average win probability after \" + str(num_simulations) + \" runs: \" + str(overall_win_probability))\n",
        "print(\"Average ending balance after \" + str(num_simulations) + \"  runs: $\" + str(overall_end_balance))"
      ],
      "execution_count": null,
      "outputs": [
        {
          "output_type": "stream",
          "name": "stdout",
          "text": [
            "Average win probability after 100 runs: 0.16922979033141128\n",
            "Average ending balance after 100  runs: $920.8272\n"
          ]
        }
      ]
    },
    {
      "cell_type": "markdown",
      "source": [
        "100번 시뮬레이션 후 평균 승률이 대략 0.16 정도, 즉 대략 6번 던져서 1번 정도 승리하고, 최종잔고가 대략 \\$810~\\$840 라면 잘 해석이 된 것입니다.\n",
        "\n",
        "멋진 시뮬레이션을 통해 얻은 결론은..\n",
        "\n",
        "**엄청 최악은 아니지만, 돈을 벌고 싶다면 별로 할만한 게임은 아닌 것 같지요.**"
      ],
      "metadata": {
        "id": "Lkp0iutSJdpe"
      }
    },
    {
      "cell_type": "markdown",
      "source": [
        "# 3. LoL 랭킹 데이터 분석\n",
        "\n",
        "LoL(League-of-legends), 유명한 게임이지요. LoL 랭킹 데이터를 Pandas를 통해 분석해봅시다.\n",
        "\n",
        "(1) LoL 랭킹 데이터를 로드합니다. 해당 데이터는 기본적으로 DataFrame 형태로 저장됩니다."
      ],
      "metadata": {
        "id": "KnXVU6Upu62X"
      }
    },
    {
      "cell_type": "code",
      "metadata": {
        "id": "eW4yB6fJvtr-"
      },
      "source": [
        "import pandas as pd"
      ],
      "execution_count": null,
      "outputs": []
    },
    {
      "cell_type": "code",
      "metadata": {
        "id": "BA3UlKibw0xu"
      },
      "source": [
        "DataUrl = 'https://raw.githubusercontent.com/Datamanim/pandas/main/lol.csv'\n",
        "df = pd.read_csv(DataUrl, sep='\\t')"
      ],
      "execution_count": null,
      "outputs": []
    },
    {
      "cell_type": "markdown",
      "source": [
        "(2-1) 데이터의 처음 8개 행을 출력하세요."
      ],
      "metadata": {
        "id": "_2WLCyUix8os"
      }
    },
    {
      "cell_type": "code",
      "source": [
        "####### 여러분이 작성하세요 #######\n",
        "df.head(8)"
      ],
      "metadata": {
        "id": "rZpi0LgSx1Y_",
        "colab": {
          "base_uri": "https://localhost:8080/",
          "height": 394
        },
        "outputId": "8c6d6486-97df-463f-ce0d-dfc89644f081"
      },
      "execution_count": null,
      "outputs": [
        {
          "output_type": "execute_result",
          "data": {
            "text/plain": [
              "       gameId   creationTime  gameDuration  seasonId  winner  firstBlood  \\\n",
              "0  3326086514  1504279457970          1949         9       1           2   \n",
              "1  3229566029  1497848803862          1851         9       1           1   \n",
              "2  3327363504  1504360103310          1493         9       1           2   \n",
              "3  3326856598  1504348503996          1758         9       1           1   \n",
              "4  3330080762  1504554410899          2094         9       1           2   \n",
              "5  3287435705  1501667992132          2059         9       1           2   \n",
              "6  3314215542  1503430065724          1993         9       1           1   \n",
              "7  3329224025  1504472363684          1334         9       1           1   \n",
              "\n",
              "   firstTower  firstInhibitor  firstBaron  firstDragon  ...  t2_towerKills  \\\n",
              "0           1               1           1            1  ...              5   \n",
              "1           1               1           0            1  ...              2   \n",
              "2           1               1           1            2  ...              2   \n",
              "3           1               1           1            1  ...              0   \n",
              "4           1               1           1            1  ...              3   \n",
              "5           2               1           1            2  ...              6   \n",
              "6           2               1           1            1  ...              2   \n",
              "7           1               0           0            2  ...              0   \n",
              "\n",
              "   t2_inhibitorKills  t2_baronKills  t2_dragonKills  t2_riftHeraldKills  \\\n",
              "0                  0              0               1                   1   \n",
              "1                  0              0               0                   0   \n",
              "2                  0              0               1                   0   \n",
              "3                  0              0               0                   0   \n",
              "4                  0              0               1                   0   \n",
              "5                  0              0               3                   0   \n",
              "6                  0              0               0                   0   \n",
              "7                  0              0               2                   0   \n",
              "\n",
              "   t2_ban1  t2_ban2  t2_ban3  t2_ban4  t2_ban5  \n",
              "0      114       67       43       16       51  \n",
              "1       11       67      238       51      420  \n",
              "2      157      238      121       57       28  \n",
              "3      164       18      141       40       51  \n",
              "4       86       11      201      122       18  \n",
              "5      119      134      154       63       31  \n",
              "6       75       42       31       40      429  \n",
              "7      157       38      122       40      238  \n",
              "\n",
              "[8 rows x 61 columns]"
            ],
            "text/html": [
              "\n",
              "  <div id=\"df-c0c74d7e-000f-464e-a9dc-51d1063f9c36\">\n",
              "    <div class=\"colab-df-container\">\n",
              "      <div>\n",
              "<style scoped>\n",
              "    .dataframe tbody tr th:only-of-type {\n",
              "        vertical-align: middle;\n",
              "    }\n",
              "\n",
              "    .dataframe tbody tr th {\n",
              "        vertical-align: top;\n",
              "    }\n",
              "\n",
              "    .dataframe thead th {\n",
              "        text-align: right;\n",
              "    }\n",
              "</style>\n",
              "<table border=\"1\" class=\"dataframe\">\n",
              "  <thead>\n",
              "    <tr style=\"text-align: right;\">\n",
              "      <th></th>\n",
              "      <th>gameId</th>\n",
              "      <th>creationTime</th>\n",
              "      <th>gameDuration</th>\n",
              "      <th>seasonId</th>\n",
              "      <th>winner</th>\n",
              "      <th>firstBlood</th>\n",
              "      <th>firstTower</th>\n",
              "      <th>firstInhibitor</th>\n",
              "      <th>firstBaron</th>\n",
              "      <th>firstDragon</th>\n",
              "      <th>...</th>\n",
              "      <th>t2_towerKills</th>\n",
              "      <th>t2_inhibitorKills</th>\n",
              "      <th>t2_baronKills</th>\n",
              "      <th>t2_dragonKills</th>\n",
              "      <th>t2_riftHeraldKills</th>\n",
              "      <th>t2_ban1</th>\n",
              "      <th>t2_ban2</th>\n",
              "      <th>t2_ban3</th>\n",
              "      <th>t2_ban4</th>\n",
              "      <th>t2_ban5</th>\n",
              "    </tr>\n",
              "  </thead>\n",
              "  <tbody>\n",
              "    <tr>\n",
              "      <th>0</th>\n",
              "      <td>3326086514</td>\n",
              "      <td>1504279457970</td>\n",
              "      <td>1949</td>\n",
              "      <td>9</td>\n",
              "      <td>1</td>\n",
              "      <td>2</td>\n",
              "      <td>1</td>\n",
              "      <td>1</td>\n",
              "      <td>1</td>\n",
              "      <td>1</td>\n",
              "      <td>...</td>\n",
              "      <td>5</td>\n",
              "      <td>0</td>\n",
              "      <td>0</td>\n",
              "      <td>1</td>\n",
              "      <td>1</td>\n",
              "      <td>114</td>\n",
              "      <td>67</td>\n",
              "      <td>43</td>\n",
              "      <td>16</td>\n",
              "      <td>51</td>\n",
              "    </tr>\n",
              "    <tr>\n",
              "      <th>1</th>\n",
              "      <td>3229566029</td>\n",
              "      <td>1497848803862</td>\n",
              "      <td>1851</td>\n",
              "      <td>9</td>\n",
              "      <td>1</td>\n",
              "      <td>1</td>\n",
              "      <td>1</td>\n",
              "      <td>1</td>\n",
              "      <td>0</td>\n",
              "      <td>1</td>\n",
              "      <td>...</td>\n",
              "      <td>2</td>\n",
              "      <td>0</td>\n",
              "      <td>0</td>\n",
              "      <td>0</td>\n",
              "      <td>0</td>\n",
              "      <td>11</td>\n",
              "      <td>67</td>\n",
              "      <td>238</td>\n",
              "      <td>51</td>\n",
              "      <td>420</td>\n",
              "    </tr>\n",
              "    <tr>\n",
              "      <th>2</th>\n",
              "      <td>3327363504</td>\n",
              "      <td>1504360103310</td>\n",
              "      <td>1493</td>\n",
              "      <td>9</td>\n",
              "      <td>1</td>\n",
              "      <td>2</td>\n",
              "      <td>1</td>\n",
              "      <td>1</td>\n",
              "      <td>1</td>\n",
              "      <td>2</td>\n",
              "      <td>...</td>\n",
              "      <td>2</td>\n",
              "      <td>0</td>\n",
              "      <td>0</td>\n",
              "      <td>1</td>\n",
              "      <td>0</td>\n",
              "      <td>157</td>\n",
              "      <td>238</td>\n",
              "      <td>121</td>\n",
              "      <td>57</td>\n",
              "      <td>28</td>\n",
              "    </tr>\n",
              "    <tr>\n",
              "      <th>3</th>\n",
              "      <td>3326856598</td>\n",
              "      <td>1504348503996</td>\n",
              "      <td>1758</td>\n",
              "      <td>9</td>\n",
              "      <td>1</td>\n",
              "      <td>1</td>\n",
              "      <td>1</td>\n",
              "      <td>1</td>\n",
              "      <td>1</td>\n",
              "      <td>1</td>\n",
              "      <td>...</td>\n",
              "      <td>0</td>\n",
              "      <td>0</td>\n",
              "      <td>0</td>\n",
              "      <td>0</td>\n",
              "      <td>0</td>\n",
              "      <td>164</td>\n",
              "      <td>18</td>\n",
              "      <td>141</td>\n",
              "      <td>40</td>\n",
              "      <td>51</td>\n",
              "    </tr>\n",
              "    <tr>\n",
              "      <th>4</th>\n",
              "      <td>3330080762</td>\n",
              "      <td>1504554410899</td>\n",
              "      <td>2094</td>\n",
              "      <td>9</td>\n",
              "      <td>1</td>\n",
              "      <td>2</td>\n",
              "      <td>1</td>\n",
              "      <td>1</td>\n",
              "      <td>1</td>\n",
              "      <td>1</td>\n",
              "      <td>...</td>\n",
              "      <td>3</td>\n",
              "      <td>0</td>\n",
              "      <td>0</td>\n",
              "      <td>1</td>\n",
              "      <td>0</td>\n",
              "      <td>86</td>\n",
              "      <td>11</td>\n",
              "      <td>201</td>\n",
              "      <td>122</td>\n",
              "      <td>18</td>\n",
              "    </tr>\n",
              "    <tr>\n",
              "      <th>5</th>\n",
              "      <td>3287435705</td>\n",
              "      <td>1501667992132</td>\n",
              "      <td>2059</td>\n",
              "      <td>9</td>\n",
              "      <td>1</td>\n",
              "      <td>2</td>\n",
              "      <td>2</td>\n",
              "      <td>1</td>\n",
              "      <td>1</td>\n",
              "      <td>2</td>\n",
              "      <td>...</td>\n",
              "      <td>6</td>\n",
              "      <td>0</td>\n",
              "      <td>0</td>\n",
              "      <td>3</td>\n",
              "      <td>0</td>\n",
              "      <td>119</td>\n",
              "      <td>134</td>\n",
              "      <td>154</td>\n",
              "      <td>63</td>\n",
              "      <td>31</td>\n",
              "    </tr>\n",
              "    <tr>\n",
              "      <th>6</th>\n",
              "      <td>3314215542</td>\n",
              "      <td>1503430065724</td>\n",
              "      <td>1993</td>\n",
              "      <td>9</td>\n",
              "      <td>1</td>\n",
              "      <td>1</td>\n",
              "      <td>2</td>\n",
              "      <td>1</td>\n",
              "      <td>1</td>\n",
              "      <td>1</td>\n",
              "      <td>...</td>\n",
              "      <td>2</td>\n",
              "      <td>0</td>\n",
              "      <td>0</td>\n",
              "      <td>0</td>\n",
              "      <td>0</td>\n",
              "      <td>75</td>\n",
              "      <td>42</td>\n",
              "      <td>31</td>\n",
              "      <td>40</td>\n",
              "      <td>429</td>\n",
              "    </tr>\n",
              "    <tr>\n",
              "      <th>7</th>\n",
              "      <td>3329224025</td>\n",
              "      <td>1504472363684</td>\n",
              "      <td>1334</td>\n",
              "      <td>9</td>\n",
              "      <td>1</td>\n",
              "      <td>1</td>\n",
              "      <td>1</td>\n",
              "      <td>0</td>\n",
              "      <td>0</td>\n",
              "      <td>2</td>\n",
              "      <td>...</td>\n",
              "      <td>0</td>\n",
              "      <td>0</td>\n",
              "      <td>0</td>\n",
              "      <td>2</td>\n",
              "      <td>0</td>\n",
              "      <td>157</td>\n",
              "      <td>38</td>\n",
              "      <td>122</td>\n",
              "      <td>40</td>\n",
              "      <td>238</td>\n",
              "    </tr>\n",
              "  </tbody>\n",
              "</table>\n",
              "<p>8 rows × 61 columns</p>\n",
              "</div>\n",
              "      <button class=\"colab-df-convert\" onclick=\"convertToInteractive('df-c0c74d7e-000f-464e-a9dc-51d1063f9c36')\"\n",
              "              title=\"Convert this dataframe to an interactive table.\"\n",
              "              style=\"display:none;\">\n",
              "        \n",
              "  <svg xmlns=\"http://www.w3.org/2000/svg\" height=\"24px\"viewBox=\"0 0 24 24\"\n",
              "       width=\"24px\">\n",
              "    <path d=\"M0 0h24v24H0V0z\" fill=\"none\"/>\n",
              "    <path d=\"M18.56 5.44l.94 2.06.94-2.06 2.06-.94-2.06-.94-.94-2.06-.94 2.06-2.06.94zm-11 1L8.5 8.5l.94-2.06 2.06-.94-2.06-.94L8.5 2.5l-.94 2.06-2.06.94zm10 10l.94 2.06.94-2.06 2.06-.94-2.06-.94-.94-2.06-.94 2.06-2.06.94z\"/><path d=\"M17.41 7.96l-1.37-1.37c-.4-.4-.92-.59-1.43-.59-.52 0-1.04.2-1.43.59L10.3 9.45l-7.72 7.72c-.78.78-.78 2.05 0 2.83L4 21.41c.39.39.9.59 1.41.59.51 0 1.02-.2 1.41-.59l7.78-7.78 2.81-2.81c.8-.78.8-2.07 0-2.86zM5.41 20L4 18.59l7.72-7.72 1.47 1.35L5.41 20z\"/>\n",
              "  </svg>\n",
              "      </button>\n",
              "      \n",
              "  <style>\n",
              "    .colab-df-container {\n",
              "      display:flex;\n",
              "      flex-wrap:wrap;\n",
              "      gap: 12px;\n",
              "    }\n",
              "\n",
              "    .colab-df-convert {\n",
              "      background-color: #E8F0FE;\n",
              "      border: none;\n",
              "      border-radius: 50%;\n",
              "      cursor: pointer;\n",
              "      display: none;\n",
              "      fill: #1967D2;\n",
              "      height: 32px;\n",
              "      padding: 0 0 0 0;\n",
              "      width: 32px;\n",
              "    }\n",
              "\n",
              "    .colab-df-convert:hover {\n",
              "      background-color: #E2EBFA;\n",
              "      box-shadow: 0px 1px 2px rgba(60, 64, 67, 0.3), 0px 1px 3px 1px rgba(60, 64, 67, 0.15);\n",
              "      fill: #174EA6;\n",
              "    }\n",
              "\n",
              "    [theme=dark] .colab-df-convert {\n",
              "      background-color: #3B4455;\n",
              "      fill: #D2E3FC;\n",
              "    }\n",
              "\n",
              "    [theme=dark] .colab-df-convert:hover {\n",
              "      background-color: #434B5C;\n",
              "      box-shadow: 0px 1px 3px 1px rgba(0, 0, 0, 0.15);\n",
              "      filter: drop-shadow(0px 1px 2px rgba(0, 0, 0, 0.3));\n",
              "      fill: #FFFFFF;\n",
              "    }\n",
              "  </style>\n",
              "\n",
              "      <script>\n",
              "        const buttonEl =\n",
              "          document.querySelector('#df-c0c74d7e-000f-464e-a9dc-51d1063f9c36 button.colab-df-convert');\n",
              "        buttonEl.style.display =\n",
              "          google.colab.kernel.accessAllowed ? 'block' : 'none';\n",
              "\n",
              "        async function convertToInteractive(key) {\n",
              "          const element = document.querySelector('#df-c0c74d7e-000f-464e-a9dc-51d1063f9c36');\n",
              "          const dataTable =\n",
              "            await google.colab.kernel.invokeFunction('convertToInteractive',\n",
              "                                                     [key], {});\n",
              "          if (!dataTable) return;\n",
              "\n",
              "          const docLinkHtml = 'Like what you see? Visit the ' +\n",
              "            '<a target=\"_blank\" href=https://colab.research.google.com/notebooks/data_table.ipynb>data table notebook</a>'\n",
              "            + ' to learn more about interactive tables.';\n",
              "          element.innerHTML = '';\n",
              "          dataTable['output_type'] = 'display_data';\n",
              "          await google.colab.output.renderOutput(dataTable, element);\n",
              "          const docLink = document.createElement('div');\n",
              "          docLink.innerHTML = docLinkHtml;\n",
              "          element.appendChild(docLink);\n",
              "        }\n",
              "      </script>\n",
              "    </div>\n",
              "  </div>\n",
              "  "
            ]
          },
          "metadata": {},
          "execution_count": 111
        }
      ]
    },
    {
      "cell_type": "markdown",
      "source": [
        "(2-2) 데이터의 마지막 3개 행을 출력하세요."
      ],
      "metadata": {
        "id": "pUasQU9SVgS4"
      }
    },
    {
      "cell_type": "code",
      "source": [
        "####### 여러분이 작성하세요 #######\n",
        "df.tail(3)"
      ],
      "metadata": {
        "id": "yaAdgTGxVf56",
        "colab": {
          "base_uri": "https://localhost:8080/",
          "height": 237
        },
        "outputId": "b1fbfba2-7bdc-450d-9934-4b785325ff3f"
      },
      "execution_count": null,
      "outputs": [
        {
          "output_type": "execute_result",
          "data": {
            "text/plain": [
              "           gameId   creationTime  gameDuration  seasonId  winner  firstBlood  \\\n",
              "51487  3322765040  1504029863961          2156         9       2           2   \n",
              "51488  3256675373  1499562036246          1475         9       2           2   \n",
              "51489  3317333020  1503612754059          1445         9       1           1   \n",
              "\n",
              "       firstTower  firstInhibitor  firstBaron  firstDragon  ...  \\\n",
              "51487           2               2           0            1  ...   \n",
              "51488           2               2           0            2  ...   \n",
              "51489           1               1           1            2  ...   \n",
              "\n",
              "       t2_towerKills  t2_inhibitorKills  t2_baronKills  t2_dragonKills  \\\n",
              "51487             10                  2              0               2   \n",
              "51488             11                  3              0               1   \n",
              "51489              1                  0              0               1   \n",
              "\n",
              "       t2_riftHeraldKills  t2_ban1  t2_ban2  t2_ban3  t2_ban4  t2_ban5  \n",
              "51487                   0      113      122       53       11      157  \n",
              "51488                   0      154       39       51       90      114  \n",
              "51489                   0       11      157      141       31       18  \n",
              "\n",
              "[3 rows x 61 columns]"
            ],
            "text/html": [
              "\n",
              "  <div id=\"df-1880991b-f64c-4392-9782-aca83e8b5a1a\">\n",
              "    <div class=\"colab-df-container\">\n",
              "      <div>\n",
              "<style scoped>\n",
              "    .dataframe tbody tr th:only-of-type {\n",
              "        vertical-align: middle;\n",
              "    }\n",
              "\n",
              "    .dataframe tbody tr th {\n",
              "        vertical-align: top;\n",
              "    }\n",
              "\n",
              "    .dataframe thead th {\n",
              "        text-align: right;\n",
              "    }\n",
              "</style>\n",
              "<table border=\"1\" class=\"dataframe\">\n",
              "  <thead>\n",
              "    <tr style=\"text-align: right;\">\n",
              "      <th></th>\n",
              "      <th>gameId</th>\n",
              "      <th>creationTime</th>\n",
              "      <th>gameDuration</th>\n",
              "      <th>seasonId</th>\n",
              "      <th>winner</th>\n",
              "      <th>firstBlood</th>\n",
              "      <th>firstTower</th>\n",
              "      <th>firstInhibitor</th>\n",
              "      <th>firstBaron</th>\n",
              "      <th>firstDragon</th>\n",
              "      <th>...</th>\n",
              "      <th>t2_towerKills</th>\n",
              "      <th>t2_inhibitorKills</th>\n",
              "      <th>t2_baronKills</th>\n",
              "      <th>t2_dragonKills</th>\n",
              "      <th>t2_riftHeraldKills</th>\n",
              "      <th>t2_ban1</th>\n",
              "      <th>t2_ban2</th>\n",
              "      <th>t2_ban3</th>\n",
              "      <th>t2_ban4</th>\n",
              "      <th>t2_ban5</th>\n",
              "    </tr>\n",
              "  </thead>\n",
              "  <tbody>\n",
              "    <tr>\n",
              "      <th>51487</th>\n",
              "      <td>3322765040</td>\n",
              "      <td>1504029863961</td>\n",
              "      <td>2156</td>\n",
              "      <td>9</td>\n",
              "      <td>2</td>\n",
              "      <td>2</td>\n",
              "      <td>2</td>\n",
              "      <td>2</td>\n",
              "      <td>0</td>\n",
              "      <td>1</td>\n",
              "      <td>...</td>\n",
              "      <td>10</td>\n",
              "      <td>2</td>\n",
              "      <td>0</td>\n",
              "      <td>2</td>\n",
              "      <td>0</td>\n",
              "      <td>113</td>\n",
              "      <td>122</td>\n",
              "      <td>53</td>\n",
              "      <td>11</td>\n",
              "      <td>157</td>\n",
              "    </tr>\n",
              "    <tr>\n",
              "      <th>51488</th>\n",
              "      <td>3256675373</td>\n",
              "      <td>1499562036246</td>\n",
              "      <td>1475</td>\n",
              "      <td>9</td>\n",
              "      <td>2</td>\n",
              "      <td>2</td>\n",
              "      <td>2</td>\n",
              "      <td>2</td>\n",
              "      <td>0</td>\n",
              "      <td>2</td>\n",
              "      <td>...</td>\n",
              "      <td>11</td>\n",
              "      <td>3</td>\n",
              "      <td>0</td>\n",
              "      <td>1</td>\n",
              "      <td>0</td>\n",
              "      <td>154</td>\n",
              "      <td>39</td>\n",
              "      <td>51</td>\n",
              "      <td>90</td>\n",
              "      <td>114</td>\n",
              "    </tr>\n",
              "    <tr>\n",
              "      <th>51489</th>\n",
              "      <td>3317333020</td>\n",
              "      <td>1503612754059</td>\n",
              "      <td>1445</td>\n",
              "      <td>9</td>\n",
              "      <td>1</td>\n",
              "      <td>1</td>\n",
              "      <td>1</td>\n",
              "      <td>1</td>\n",
              "      <td>1</td>\n",
              "      <td>2</td>\n",
              "      <td>...</td>\n",
              "      <td>1</td>\n",
              "      <td>0</td>\n",
              "      <td>0</td>\n",
              "      <td>1</td>\n",
              "      <td>0</td>\n",
              "      <td>11</td>\n",
              "      <td>157</td>\n",
              "      <td>141</td>\n",
              "      <td>31</td>\n",
              "      <td>18</td>\n",
              "    </tr>\n",
              "  </tbody>\n",
              "</table>\n",
              "<p>3 rows × 61 columns</p>\n",
              "</div>\n",
              "      <button class=\"colab-df-convert\" onclick=\"convertToInteractive('df-1880991b-f64c-4392-9782-aca83e8b5a1a')\"\n",
              "              title=\"Convert this dataframe to an interactive table.\"\n",
              "              style=\"display:none;\">\n",
              "        \n",
              "  <svg xmlns=\"http://www.w3.org/2000/svg\" height=\"24px\"viewBox=\"0 0 24 24\"\n",
              "       width=\"24px\">\n",
              "    <path d=\"M0 0h24v24H0V0z\" fill=\"none\"/>\n",
              "    <path d=\"M18.56 5.44l.94 2.06.94-2.06 2.06-.94-2.06-.94-.94-2.06-.94 2.06-2.06.94zm-11 1L8.5 8.5l.94-2.06 2.06-.94-2.06-.94L8.5 2.5l-.94 2.06-2.06.94zm10 10l.94 2.06.94-2.06 2.06-.94-2.06-.94-.94-2.06-.94 2.06-2.06.94z\"/><path d=\"M17.41 7.96l-1.37-1.37c-.4-.4-.92-.59-1.43-.59-.52 0-1.04.2-1.43.59L10.3 9.45l-7.72 7.72c-.78.78-.78 2.05 0 2.83L4 21.41c.39.39.9.59 1.41.59.51 0 1.02-.2 1.41-.59l7.78-7.78 2.81-2.81c.8-.78.8-2.07 0-2.86zM5.41 20L4 18.59l7.72-7.72 1.47 1.35L5.41 20z\"/>\n",
              "  </svg>\n",
              "      </button>\n",
              "      \n",
              "  <style>\n",
              "    .colab-df-container {\n",
              "      display:flex;\n",
              "      flex-wrap:wrap;\n",
              "      gap: 12px;\n",
              "    }\n",
              "\n",
              "    .colab-df-convert {\n",
              "      background-color: #E8F0FE;\n",
              "      border: none;\n",
              "      border-radius: 50%;\n",
              "      cursor: pointer;\n",
              "      display: none;\n",
              "      fill: #1967D2;\n",
              "      height: 32px;\n",
              "      padding: 0 0 0 0;\n",
              "      width: 32px;\n",
              "    }\n",
              "\n",
              "    .colab-df-convert:hover {\n",
              "      background-color: #E2EBFA;\n",
              "      box-shadow: 0px 1px 2px rgba(60, 64, 67, 0.3), 0px 1px 3px 1px rgba(60, 64, 67, 0.15);\n",
              "      fill: #174EA6;\n",
              "    }\n",
              "\n",
              "    [theme=dark] .colab-df-convert {\n",
              "      background-color: #3B4455;\n",
              "      fill: #D2E3FC;\n",
              "    }\n",
              "\n",
              "    [theme=dark] .colab-df-convert:hover {\n",
              "      background-color: #434B5C;\n",
              "      box-shadow: 0px 1px 3px 1px rgba(0, 0, 0, 0.15);\n",
              "      filter: drop-shadow(0px 1px 2px rgba(0, 0, 0, 0.3));\n",
              "      fill: #FFFFFF;\n",
              "    }\n",
              "  </style>\n",
              "\n",
              "      <script>\n",
              "        const buttonEl =\n",
              "          document.querySelector('#df-1880991b-f64c-4392-9782-aca83e8b5a1a button.colab-df-convert');\n",
              "        buttonEl.style.display =\n",
              "          google.colab.kernel.accessAllowed ? 'block' : 'none';\n",
              "\n",
              "        async function convertToInteractive(key) {\n",
              "          const element = document.querySelector('#df-1880991b-f64c-4392-9782-aca83e8b5a1a');\n",
              "          const dataTable =\n",
              "            await google.colab.kernel.invokeFunction('convertToInteractive',\n",
              "                                                     [key], {});\n",
              "          if (!dataTable) return;\n",
              "\n",
              "          const docLinkHtml = 'Like what you see? Visit the ' +\n",
              "            '<a target=\"_blank\" href=https://colab.research.google.com/notebooks/data_table.ipynb>data table notebook</a>'\n",
              "            + ' to learn more about interactive tables.';\n",
              "          element.innerHTML = '';\n",
              "          dataTable['output_type'] = 'display_data';\n",
              "          await google.colab.output.renderOutput(dataTable, element);\n",
              "          const docLink = document.createElement('div');\n",
              "          docLink.innerHTML = docLinkHtml;\n",
              "          element.appendChild(docLink);\n",
              "        }\n",
              "      </script>\n",
              "    </div>\n",
              "  </div>\n",
              "  "
            ]
          },
          "metadata": {},
          "execution_count": 112
        }
      ]
    },
    {
      "cell_type": "markdown",
      "source": [
        "(3) 데이터의 행과 열의 갯수를 파악하세요."
      ],
      "metadata": {
        "id": "sHnP4guYyqsI"
      }
    },
    {
      "cell_type": "code",
      "source": [
        "####### 여러분이 작성하세요 #######\n",
        "df.shape"
      ],
      "metadata": {
        "id": "Q7gWwmZFyEKG",
        "colab": {
          "base_uri": "https://localhost:8080/"
        },
        "outputId": "31144259-f374-4565-80f6-72f8a2778a29"
      },
      "execution_count": null,
      "outputs": [
        {
          "output_type": "execute_result",
          "data": {
            "text/plain": [
              "(51490, 61)"
            ]
          },
          "metadata": {},
          "execution_count": 113
        }
      ]
    },
    {
      "cell_type": "markdown",
      "source": [
        "(4) 데이터의 gameDuration 컬럼을 출력하세요."
      ],
      "metadata": {
        "id": "qzjzTb9JUlHr"
      }
    },
    {
      "cell_type": "code",
      "source": [
        "####### 여러분이 작성하세요 #######\n",
        "df.gameDuration"
      ],
      "metadata": {
        "id": "j1-G_0hgyyQr",
        "colab": {
          "base_uri": "https://localhost:8080/"
        },
        "outputId": "9490e387-8c64-4e4c-8ca7-7383086c42e1"
      },
      "execution_count": null,
      "outputs": [
        {
          "output_type": "execute_result",
          "data": {
            "text/plain": [
              "0        1949\n",
              "1        1851\n",
              "2        1493\n",
              "3        1758\n",
              "4        2094\n",
              "         ... \n",
              "51485    1944\n",
              "51486    3304\n",
              "51487    2156\n",
              "51488    1475\n",
              "51489    1445\n",
              "Name: gameDuration, Length: 51490, dtype: int64"
            ]
          },
          "metadata": {},
          "execution_count": 114
        }
      ]
    },
    {
      "cell_type": "markdown",
      "source": [
        "(5) 데이터의 6번째 컬럼을 출력하세요."
      ],
      "metadata": {
        "id": "P7rhtf36U_om"
      }
    },
    {
      "cell_type": "code",
      "source": [
        "####### 여러분이 작성하세요 #######\n",
        "df.iloc[5:6]"
      ],
      "metadata": {
        "id": "DEYcHq8dUsmR",
        "colab": {
          "base_uri": "https://localhost:8080/",
          "height": 174
        },
        "outputId": "97a1de41-83c0-417d-95cc-15958ff63d00"
      },
      "execution_count": null,
      "outputs": [
        {
          "output_type": "execute_result",
          "data": {
            "text/plain": [
              "       gameId   creationTime  gameDuration  seasonId  winner  firstBlood  \\\n",
              "5  3287435705  1501667992132          2059         9       1           2   \n",
              "\n",
              "   firstTower  firstInhibitor  firstBaron  firstDragon  ...  t2_towerKills  \\\n",
              "5           2               1           1            2  ...              6   \n",
              "\n",
              "   t2_inhibitorKills  t2_baronKills  t2_dragonKills  t2_riftHeraldKills  \\\n",
              "5                  0              0               3                   0   \n",
              "\n",
              "   t2_ban1  t2_ban2  t2_ban3  t2_ban4  t2_ban5  \n",
              "5      119      134      154       63       31  \n",
              "\n",
              "[1 rows x 61 columns]"
            ],
            "text/html": [
              "\n",
              "  <div id=\"df-152e3d19-ed39-4507-b5b1-cfa3644b90dc\">\n",
              "    <div class=\"colab-df-container\">\n",
              "      <div>\n",
              "<style scoped>\n",
              "    .dataframe tbody tr th:only-of-type {\n",
              "        vertical-align: middle;\n",
              "    }\n",
              "\n",
              "    .dataframe tbody tr th {\n",
              "        vertical-align: top;\n",
              "    }\n",
              "\n",
              "    .dataframe thead th {\n",
              "        text-align: right;\n",
              "    }\n",
              "</style>\n",
              "<table border=\"1\" class=\"dataframe\">\n",
              "  <thead>\n",
              "    <tr style=\"text-align: right;\">\n",
              "      <th></th>\n",
              "      <th>gameId</th>\n",
              "      <th>creationTime</th>\n",
              "      <th>gameDuration</th>\n",
              "      <th>seasonId</th>\n",
              "      <th>winner</th>\n",
              "      <th>firstBlood</th>\n",
              "      <th>firstTower</th>\n",
              "      <th>firstInhibitor</th>\n",
              "      <th>firstBaron</th>\n",
              "      <th>firstDragon</th>\n",
              "      <th>...</th>\n",
              "      <th>t2_towerKills</th>\n",
              "      <th>t2_inhibitorKills</th>\n",
              "      <th>t2_baronKills</th>\n",
              "      <th>t2_dragonKills</th>\n",
              "      <th>t2_riftHeraldKills</th>\n",
              "      <th>t2_ban1</th>\n",
              "      <th>t2_ban2</th>\n",
              "      <th>t2_ban3</th>\n",
              "      <th>t2_ban4</th>\n",
              "      <th>t2_ban5</th>\n",
              "    </tr>\n",
              "  </thead>\n",
              "  <tbody>\n",
              "    <tr>\n",
              "      <th>5</th>\n",
              "      <td>3287435705</td>\n",
              "      <td>1501667992132</td>\n",
              "      <td>2059</td>\n",
              "      <td>9</td>\n",
              "      <td>1</td>\n",
              "      <td>2</td>\n",
              "      <td>2</td>\n",
              "      <td>1</td>\n",
              "      <td>1</td>\n",
              "      <td>2</td>\n",
              "      <td>...</td>\n",
              "      <td>6</td>\n",
              "      <td>0</td>\n",
              "      <td>0</td>\n",
              "      <td>3</td>\n",
              "      <td>0</td>\n",
              "      <td>119</td>\n",
              "      <td>134</td>\n",
              "      <td>154</td>\n",
              "      <td>63</td>\n",
              "      <td>31</td>\n",
              "    </tr>\n",
              "  </tbody>\n",
              "</table>\n",
              "<p>1 rows × 61 columns</p>\n",
              "</div>\n",
              "      <button class=\"colab-df-convert\" onclick=\"convertToInteractive('df-152e3d19-ed39-4507-b5b1-cfa3644b90dc')\"\n",
              "              title=\"Convert this dataframe to an interactive table.\"\n",
              "              style=\"display:none;\">\n",
              "        \n",
              "  <svg xmlns=\"http://www.w3.org/2000/svg\" height=\"24px\"viewBox=\"0 0 24 24\"\n",
              "       width=\"24px\">\n",
              "    <path d=\"M0 0h24v24H0V0z\" fill=\"none\"/>\n",
              "    <path d=\"M18.56 5.44l.94 2.06.94-2.06 2.06-.94-2.06-.94-.94-2.06-.94 2.06-2.06.94zm-11 1L8.5 8.5l.94-2.06 2.06-.94-2.06-.94L8.5 2.5l-.94 2.06-2.06.94zm10 10l.94 2.06.94-2.06 2.06-.94-2.06-.94-.94-2.06-.94 2.06-2.06.94z\"/><path d=\"M17.41 7.96l-1.37-1.37c-.4-.4-.92-.59-1.43-.59-.52 0-1.04.2-1.43.59L10.3 9.45l-7.72 7.72c-.78.78-.78 2.05 0 2.83L4 21.41c.39.39.9.59 1.41.59.51 0 1.02-.2 1.41-.59l7.78-7.78 2.81-2.81c.8-.78.8-2.07 0-2.86zM5.41 20L4 18.59l7.72-7.72 1.47 1.35L5.41 20z\"/>\n",
              "  </svg>\n",
              "      </button>\n",
              "      \n",
              "  <style>\n",
              "    .colab-df-container {\n",
              "      display:flex;\n",
              "      flex-wrap:wrap;\n",
              "      gap: 12px;\n",
              "    }\n",
              "\n",
              "    .colab-df-convert {\n",
              "      background-color: #E8F0FE;\n",
              "      border: none;\n",
              "      border-radius: 50%;\n",
              "      cursor: pointer;\n",
              "      display: none;\n",
              "      fill: #1967D2;\n",
              "      height: 32px;\n",
              "      padding: 0 0 0 0;\n",
              "      width: 32px;\n",
              "    }\n",
              "\n",
              "    .colab-df-convert:hover {\n",
              "      background-color: #E2EBFA;\n",
              "      box-shadow: 0px 1px 2px rgba(60, 64, 67, 0.3), 0px 1px 3px 1px rgba(60, 64, 67, 0.15);\n",
              "      fill: #174EA6;\n",
              "    }\n",
              "\n",
              "    [theme=dark] .colab-df-convert {\n",
              "      background-color: #3B4455;\n",
              "      fill: #D2E3FC;\n",
              "    }\n",
              "\n",
              "    [theme=dark] .colab-df-convert:hover {\n",
              "      background-color: #434B5C;\n",
              "      box-shadow: 0px 1px 3px 1px rgba(0, 0, 0, 0.15);\n",
              "      filter: drop-shadow(0px 1px 2px rgba(0, 0, 0, 0.3));\n",
              "      fill: #FFFFFF;\n",
              "    }\n",
              "  </style>\n",
              "\n",
              "      <script>\n",
              "        const buttonEl =\n",
              "          document.querySelector('#df-152e3d19-ed39-4507-b5b1-cfa3644b90dc button.colab-df-convert');\n",
              "        buttonEl.style.display =\n",
              "          google.colab.kernel.accessAllowed ? 'block' : 'none';\n",
              "\n",
              "        async function convertToInteractive(key) {\n",
              "          const element = document.querySelector('#df-152e3d19-ed39-4507-b5b1-cfa3644b90dc');\n",
              "          const dataTable =\n",
              "            await google.colab.kernel.invokeFunction('convertToInteractive',\n",
              "                                                     [key], {});\n",
              "          if (!dataTable) return;\n",
              "\n",
              "          const docLinkHtml = 'Like what you see? Visit the ' +\n",
              "            '<a target=\"_blank\" href=https://colab.research.google.com/notebooks/data_table.ipynb>data table notebook</a>'\n",
              "            + ' to learn more about interactive tables.';\n",
              "          element.innerHTML = '';\n",
              "          dataTable['output_type'] = 'display_data';\n",
              "          await google.colab.output.renderOutput(dataTable, element);\n",
              "          const docLink = document.createElement('div');\n",
              "          docLink.innerHTML = docLinkHtml;\n",
              "          element.appendChild(docLink);\n",
              "        }\n",
              "      </script>\n",
              "    </div>\n",
              "  </div>\n",
              "  "
            ]
          },
          "metadata": {},
          "execution_count": 115
        }
      ]
    },
    {
      "cell_type": "markdown",
      "source": [
        "(6)데이터에서 누락된 정보, 즉 NaN이 몇 개가 있는지 확인하세요."
      ],
      "metadata": {
        "id": "B9-UMCfSVCTy"
      }
    },
    {
      "cell_type": "code",
      "source": [
        "####### 여러분이 작성하세요 #######\n",
        "df.isnull().sum()"
      ],
      "metadata": {
        "id": "158Pn2uBVDum",
        "colab": {
          "base_uri": "https://localhost:8080/"
        },
        "outputId": "49301db7-05d0-4ab3-a083-ff99d9719df8"
      },
      "execution_count": null,
      "outputs": [
        {
          "output_type": "execute_result",
          "data": {
            "text/plain": [
              "gameId          0\n",
              "creationTime    0\n",
              "gameDuration    0\n",
              "seasonId        0\n",
              "winner          0\n",
              "               ..\n",
              "t2_ban1         0\n",
              "t2_ban2         0\n",
              "t2_ban3         0\n",
              "t2_ban4         0\n",
              "t2_ban5         0\n",
              "Length: 61, dtype: int64"
            ]
          },
          "metadata": {},
          "execution_count": 116
        }
      ]
    },
    {
      "cell_type": "markdown",
      "source": [
        "(7) 데이터의 각각의 컬럼에서 평균을 구하세요."
      ],
      "metadata": {
        "id": "Vh3__4YjX6-4"
      }
    },
    {
      "cell_type": "code",
      "source": [
        "####### 여러분이 작성하세요 #######\n",
        "df.mean(axis=0)"
      ],
      "metadata": {
        "id": "5xQ5uZvDXnNq",
        "colab": {
          "base_uri": "https://localhost:8080/"
        },
        "outputId": "8ede988d-4338-4a25-f170-a5f9600a10f6"
      },
      "execution_count": null,
      "outputs": [
        {
          "output_type": "execute_result",
          "data": {
            "text/plain": [
              "gameId          3.306223e+09\n",
              "creationTime    1.502926e+12\n",
              "gameDuration    1.832363e+03\n",
              "seasonId        9.000000e+00\n",
              "winner          1.493552e+00\n",
              "                    ...     \n",
              "t2_ban1         1.082163e+02\n",
              "t2_ban2         1.079102e+02\n",
              "t2_ban3         1.086906e+02\n",
              "t2_ban4         1.086260e+02\n",
              "t2_ban5         1.080666e+02\n",
              "Length: 61, dtype: float64"
            ]
          },
          "metadata": {},
          "execution_count": 117
        }
      ]
    },
    {
      "cell_type": "markdown",
      "source": [
        "# 4. 선형 회귀\n",
        "\n",
        "수업 시간에 배운데로 sklearn의 make_regression을 사용하여 간단한 선형회귀 모델을 만들고 학습시켜봅시다. \n",
        "\n",
        "(1) 다음 조건을 준수하여 데이터를 생성합니다.\n",
        "\n",
        "**조건: 400개 샘플, 1개의 특성**\n",
        "\n",
        "**make_regression 함수에 문제의 조건을 반영하되, 나머지 변수는 제시된 기본 옵션으로 사용하세요.**\n",
        "\n",
        "**기본옵션: bias=10, noise=50, coef=True, random_state=1**"
      ],
      "metadata": {
        "id": "5PuwpcCjYUjh"
      }
    },
    {
      "cell_type": "code",
      "source": [
        "import matplotlib.pyplot as plt\n",
        "from sklearn.datasets import make_regression\n",
        "####### 여러분이 작성하세요 #######\n",
        "# make_regression 함수에 문제의 조건을 반영하여 데이터를 생성하세요. (기본옵션: bias=10, noise=50, coef=True, random_state=1)\n",
        "x, y, k = make_regression(n_samples=400, n_features=1, bias = 10, noise = 50, coef = True, random_state = 1)\n",
        "###################################\n",
        "\n",
        "plt.plot(x, y, 'k.')\n",
        "plt.show()"
      ],
      "metadata": {
        "id": "dqQm33pYX3_m",
        "colab": {
          "base_uri": "https://localhost:8080/",
          "height": 265
        },
        "outputId": "d61d3086-00c7-45a3-93b7-4d7e4c4337cc"
      },
      "execution_count": null,
      "outputs": [
        {
          "output_type": "display_data",
          "data": {
            "text/plain": [
              "<Figure size 432x288 with 1 Axes>"
            ],
            "image/png": "[encoded data removed]"
          },
          "metadata": {
            "needs_background": "light"
          }
        }
      ]
    },
    {
      "cell_type": "markdown",
      "source": [
        "아래와 같은 과정으로 샘플 수는 400개, 특성 수는 1개가 나오는 지 확인하세요."
      ],
      "metadata": {
        "id": "hgKMcxGkIuTE"
      }
    },
    {
      "cell_type": "code",
      "source": [
        "print(x.shape, y.shape)"
      ],
      "metadata": {
        "id": "6I0oqmXsIuvU",
        "colab": {
          "base_uri": "https://localhost:8080/"
        },
        "outputId": "59285054-955c-4b2f-b309-55ff0f56debc"
      },
      "execution_count": null,
      "outputs": [
        {
          "output_type": "stream",
          "name": "stdout",
          "text": [
            "(400, 1) (400,)\n"
          ]
        }
      ]
    },
    {
      "cell_type": "markdown",
      "source": [
        "(2) 아래에 제시된 코드를 실행하여 선형 회귀 모델을 만들고 학습시키세요."
      ],
      "metadata": {
        "id": "dOcQ8bfnbBeX"
      }
    },
    {
      "cell_type": "code",
      "source": [
        "from sklearn.linear_model import LinearRegression\n",
        "\n",
        "model = LinearRegression().fit(x,y)"
      ],
      "metadata": {
        "id": "ijvP8-G2aqYO"
      },
      "execution_count": null,
      "outputs": []
    },
    {
      "cell_type": "markdown",
      "source": [
        "(3) 학습된 결과로 선형 모델의 계수(coef\\_)와 절편(intercept\\_)를 확인하세요."
      ],
      "metadata": {
        "id": "Bwk7O7Hgbd7l"
      }
    },
    {
      "cell_type": "code",
      "source": [
        "####### 여러분이 작성하세요 #######\n",
        "print(\"coef :\", model.coef_)\n",
        "print(\"intercept :\", model.intercept_)"
      ],
      "metadata": {
        "id": "b_PweqLEbXrB",
        "colab": {
          "base_uri": "https://localhost:8080/"
        },
        "outputId": "8cc3db98-6a99-4448-e036-c0491e98bfbb"
      },
      "execution_count": null,
      "outputs": [
        {
          "output_type": "stream",
          "name": "stdout",
          "text": [
            "coef : [51.66204161]\n",
            "intercept : 8.930950664477436\n"
          ]
        }
      ]
    },
    {
      "cell_type": "markdown",
      "source": [
        "(4) 학습된 모델로 예측(predict)한 후 결과를 그리세요. \n",
        "\n",
        "**(주의: 데이터와 예측값을 하나의 그래프에 그리세요)**"
      ],
      "metadata": {
        "id": "cS56PLyZb0xu"
      }
    },
    {
      "cell_type": "code",
      "source": [
        "####### 여러분이 작성하세요 #######\n",
        "y_pred = model.predict(x)\n",
        "###################################\n",
        "\n",
        "# 결과 출력 (y_pred: 학습한 모델로 예측한 결과)\n",
        "plt.plot(x,y,'.',x,y_pred)"
      ],
      "metadata": {
        "id": "OXq2sO1sbvsD",
        "colab": {
          "base_uri": "https://localhost:8080/",
          "height": 302
        },
        "outputId": "e5693129-d708-42a4-b663-d6d622c1e09f"
      },
      "execution_count": null,
      "outputs": [
        {
          "output_type": "execute_result",
          "data": {
            "text/plain": [
              "[<matplotlib.lines.Line2D at 0x7f6bf6649b10>,\n",
              " <matplotlib.lines.Line2D at 0x7f6bf6649d90>]"
            ]
          },
          "metadata": {},
          "execution_count": 122
        },
        {
          "output_type": "display_data",
          "data": {
            "text/plain": [
              "<Figure size 432x288 with 1 Axes>"
            ],
            "image/png": "[encoded data removed]"
          },
          "metadata": {
            "needs_background": "light"
          }
        }
      ]
    },
    {
      "cell_type": "markdown",
      "source": [
        "(5) 잘 만들어지던가요? \n",
        "이번에는 동일한 과정을 수행하되 다음의 조건으로 데이터를 생성해서 진행하세요.\n",
        "\n",
        "**조건: 600개 샘플, 4개의 특성**\n",
        "\n",
        "**make_regression 함수에 문제의 조건을 반영하되, 나머지 변수는 제시된 기본 옵션으로 사용하세요.**\n",
        "\n",
        "**기본옵션: bias=10, noise=50, coef=True, random_state=1**"
      ],
      "metadata": {
        "id": "ZUtIQpBKuxbj"
      }
    },
    {
      "cell_type": "code",
      "source": [
        "import matplotlib.pyplot as plt\n",
        "from sklearn.datasets import make_regression\n",
        "####### 여러분이 작성하세요 #######\n",
        "# 모델 생성\n",
        "x, y, k = make_regression(n_samples=600, n_features=4, bias = 10, noise = 50, coef = True, random_state = 1)\n",
        "###################################\n",
        "\n",
        "plt.plot(x, y, 'k.')\n",
        "plt.show()"
      ],
      "metadata": {
        "id": "DsXyCwMbcK0T",
        "colab": {
          "base_uri": "https://localhost:8080/",
          "height": 265
        },
        "outputId": "936bd50c-33f7-4692-91c5-15bd91721fa1"
      },
      "execution_count": null,
      "outputs": [
        {
          "output_type": "display_data",
          "data": {
            "text/plain": [
              "<Figure size 432x288 with 1 Axes>"
            ],
            "image/png": "[encoded data removed]"
          },
          "metadata": {
            "needs_background": "light"
          }
        }
      ]
    },
    {
      "cell_type": "markdown",
      "source": [
        "샘플 수 600개, 특성 수 4개가 나오는지 확인하세요."
      ],
      "metadata": {
        "id": "E4fNgFSaJGw9"
      }
    },
    {
      "cell_type": "code",
      "source": [
        "print(x.shape, y.shape)"
      ],
      "metadata": {
        "id": "vkhAgyZOIkJ2",
        "colab": {
          "base_uri": "https://localhost:8080/"
        },
        "outputId": "7093ed29-a054-4d3c-aa4b-fd9bba41963e"
      },
      "execution_count": null,
      "outputs": [
        {
          "output_type": "stream",
          "name": "stdout",
          "text": [
            "(600, 4) (600,)\n"
          ]
        }
      ]
    },
    {
      "cell_type": "markdown",
      "source": [
        "모델 훈련, 결과 예측 등을 수행하세요."
      ],
      "metadata": {
        "id": "wZJztlfsKUEV"
      }
    },
    {
      "cell_type": "code",
      "source": [
        "from sklearn.linear_model import LinearRegression\n",
        "\n",
        "####### 여러분이 작성하세요 #######\n",
        "# 모델 훈련\n",
        "model1 = LinearRegression().fit(x,y)\n",
        "# 학습된 모델로 결과 예측\n",
        "y_pred = model1.predict(x)\n",
        "###################################\n",
        "\n",
        "# 결과 출력 (y_pred: 학습한 모델로 예측한 결과)\n",
        "plt.plot(x,y,'.',x,y_pred)"
      ],
      "metadata": {
        "id": "GTQyLdKCvOya",
        "colab": {
          "base_uri": "https://localhost:8080/",
          "height": 412
        },
        "outputId": "16caf61f-4384-41b5-c7d3-65cb9c35f165"
      },
      "execution_count": null,
      "outputs": [
        {
          "output_type": "execute_result",
          "data": {
            "text/plain": [
              "[<matplotlib.lines.Line2D at 0x7f6bf65aded0>,\n",
              " <matplotlib.lines.Line2D at 0x7f6bf65b9190>,\n",
              " <matplotlib.lines.Line2D at 0x7f6bf65b9350>,\n",
              " <matplotlib.lines.Line2D at 0x7f6bf65b9510>,\n",
              " <matplotlib.lines.Line2D at 0x7f6bf65b96d0>,\n",
              " <matplotlib.lines.Line2D at 0x7f6bf65b98d0>,\n",
              " <matplotlib.lines.Line2D at 0x7f6bf65b9a90>,\n",
              " <matplotlib.lines.Line2D at 0x7f6bf65b9c50>]"
            ]
          },
          "metadata": {},
          "execution_count": 125
        },
        {
          "output_type": "display_data",
          "data": {
            "text/plain": [
              "<Figure size 432x288 with 1 Axes>"
            ],
            "image/png": "[encoded data removed]"
          },
          "metadata": {
            "needs_background": "light"
          }
        }
      ]
    },
    {
      "cell_type": "markdown",
      "source": [
        "(6) 결과가 어떤가요? 선형회귀가 잘 된 것인가요? \n",
        "\n",
        "잘 모르겠다구요?\n",
        "\n",
        "네, 특성이 여러 개이기 때문에 일차원 그래프로 간단히 학습 여부를 확인할 수가 없습니다.\n",
        "\n",
        "아래의 코드를 실행하여 만들어진 샘플 데이터를 train/test set으로 분리하고 학습한 후 검증하는 과정을 수행해봅시다. \n",
        "\n",
        "weight가 특성 수만큼 나오는 것을 알 수 있습니다. 다차원 그래프로 표현해야 하기에 위의 일차원 그래프로는 복잡하게 표현될 수 밖에 없지요.\n",
        "\n",
        "train과 test set에 대한 정확도도 확인해보세요."
      ],
      "metadata": {
        "id": "TMPTJBebvkCC"
      }
    },
    {
      "cell_type": "code",
      "source": [
        "from sklearn.model_selection import train_test_split\n",
        "x_train, x_test, y_train, y_test = train_test_split(x,y,random_state=0)"
      ],
      "metadata": {
        "id": "9ABNhHq2vhvm"
      },
      "execution_count": null,
      "outputs": []
    },
    {
      "cell_type": "code",
      "source": [
        "from sklearn.linear_model import LinearRegression\n",
        "\n",
        "# 모델 학습 (train 데이터로 학습합니다.)\n",
        "model = LinearRegression().fit(x_train,y_train)\n",
        "\n",
        "# weight와 bias 확인하기\n",
        "print(\"weight:\", model.coef_)\n",
        "print(\"bias:\", model.intercept_)\n",
        "\n",
        "# accuracy 확인하기\n",
        "print(\"Train Accuracy: {:.2f}\".format(model.score(x_train, y_train)))\n",
        "print(\"Test Accuracy: {:.2f}\".format(model.score(x_test, y_test)))"
      ],
      "metadata": {
        "id": "rg4GY1DALRrL",
        "colab": {
          "base_uri": "https://localhost:8080/"
        },
        "outputId": "e068549a-7183-4ed4-8ee7-a1597c51c53b"
      },
      "execution_count": null,
      "outputs": [
        {
          "output_type": "stream",
          "name": "stdout",
          "text": [
            "weight: [71.80951077 52.27779784 84.35727543 39.48144482]\n",
            "bias: 9.394471960662415\n",
            "Train Accuracy: 0.88\n",
            "Test Accuracy: 0.87\n"
          ]
        }
      ]
    },
    {
      "cell_type": "markdown",
      "source": [
        "# 5. 분류형 선형 모델\n",
        "수업 시간에 배운데로 유방암 dataset에 대한 분류 모델을 만들고 학습시켜봅시다.\n",
        "\n",
        "(1) 아래의 코드를 실행하여 데이터를 가져오고 test/train set를 분리합니다."
      ],
      "metadata": {
        "id": "M683yVt3wOMU"
      }
    },
    {
      "cell_type": "code",
      "source": [
        "from sklearn.datasets import load_breast_cancer\n",
        "from sklearn.model_selection import train_test_split\n",
        "\n",
        "cancer = load_breast_cancer()\n",
        "\n",
        "x_train, x_test, y_train, y_test = train_test_split(cancer.data, cancer.target, random_state=1)"
      ],
      "metadata": {
        "id": "ZfD-e5hHUKqF"
      },
      "execution_count": null,
      "outputs": []
    },
    {
      "cell_type": "markdown",
      "source": [
        "(2) train set와 test set의 형태를 확인하세요."
      ],
      "metadata": {
        "id": "7fLkQn0dafN_"
      }
    },
    {
      "cell_type": "code",
      "source": [
        "####### 여러분이 작성하세요 #######\n",
        "print(x_train.shape, y_train.shape)\n",
        "print(x_test.shape, y_test.shape)"
      ],
      "metadata": {
        "id": "Z3HdVzSwUwBc",
        "colab": {
          "base_uri": "https://localhost:8080/"
        },
        "outputId": "50be6e59-add8-4cc6-b178-f31cfa222129"
      },
      "execution_count": null,
      "outputs": [
        {
          "output_type": "stream",
          "name": "stdout",
          "text": [
            "(426, 30) (426,)\n",
            "(143, 30) (143,)\n"
          ]
        }
      ]
    },
    {
      "cell_type": "markdown",
      "source": [
        "(3) 분류형 선형모델(LogisticRegression)을 만들고 train set에 대해 훈련하세요.\n",
        "\n",
        "**조건: 최대 반복계산 횟수(max_iter)를 100000으로 세팅할 것**"
      ],
      "metadata": {
        "id": "cchuUq2da4R1"
      }
    },
    {
      "cell_type": "code",
      "source": [
        "from sklearn.linear_model import LogisticRegression\n",
        "\n",
        "####### 여러분이 작성하세요 #######\n",
        "# LogisticRegression을 만들고 훈련하세요. 최대 반복 계산 횟수는 100000으로 세팅하세요.\n",
        "model = LogisticRegression(max_iter=100000).fit(x_train,y_train)"
      ],
      "metadata": {
        "id": "G77gu44RUeZV"
      },
      "execution_count": null,
      "outputs": []
    },
    {
      "cell_type": "markdown",
      "source": [
        "(4) 아래의 코드를 실행하여 train/test set의 정확도를 확인하세요."
      ],
      "metadata": {
        "id": "4BA6_XbXbcMW"
      }
    },
    {
      "cell_type": "code",
      "source": [
        "# accuracy 확인하기\n",
        "print(\"Train Accuracy: {:.3f}\".format(model.score(x_train, y_train)))\n",
        "print(\"Test Accuracy: {:.3f}\".format(model.score(x_test, y_test)))"
      ],
      "metadata": {
        "id": "cu8onGeRUnYC",
        "colab": {
          "base_uri": "https://localhost:8080/"
        },
        "outputId": "c539d2a7-9c91-4c78-fc68-f15feed34c63"
      },
      "execution_count": null,
      "outputs": [
        {
          "output_type": "stream",
          "name": "stdout",
          "text": [
            "Train Accuracy: 0.965\n",
            "Test Accuracy: 0.944\n"
          ]
        }
      ]
    },
    {
      "cell_type": "markdown",
      "source": [
        "(5) max_iter는 동일하게 사용하되, 규제 정도를 강화해서 훈련 모델의 정확도를 확인해보세요."
      ],
      "metadata": {
        "id": "NMeQgCngbhQo"
      }
    },
    {
      "cell_type": "code",
      "source": [
        "####### 여러분이 작성하세요 #######\n",
        "# 규제를 강화한 LogisticRegression을 만들고 훈련하세요. 최대 반복 계산 횟수는 100000으로 세팅하세요.\n",
        "model = LogisticRegression(C = 0.01, max_iter=100000).fit(x_train, y_train)"
      ],
      "metadata": {
        "id": "Y80syBECXH4i"
      },
      "execution_count": null,
      "outputs": []
    },
    {
      "cell_type": "code",
      "source": [
        "# accuracy 확인하기\n",
        "print(\"Train Accuracy: {:.3f}\".format(model.score(x_train, y_train)))\n",
        "print(\"Test Accuracy: {:.3f}\".format(model.score(x_test, y_test)))"
      ],
      "metadata": {
        "id": "njikhu3naPtk",
        "colab": {
          "base_uri": "https://localhost:8080/"
        },
        "outputId": "ffe79ffa-d4a6-4cb0-8cf8-b15cda42dd7f"
      },
      "execution_count": null,
      "outputs": [
        {
          "output_type": "stream",
          "name": "stdout",
          "text": [
            "Train Accuracy: 0.958\n",
            "Test Accuracy: 0.916\n"
          ]
        }
      ]
    },
    {
      "cell_type": "markdown",
      "source": [
        "또한 규제를 약화해서 정확도를 확인해보세요."
      ],
      "metadata": {
        "id": "HwiAofvqc4LA"
      }
    },
    {
      "cell_type": "code",
      "source": [
        "####### 여러분이 작성하세요 #######\n",
        "# 규제를 약화한 LogisticRegression을 만들고 훈련하세요. 최대 반복 계산 횟수는 100000으로 세팅하세요.\n",
        "model = LogisticRegression(C = 100, max_iter=100000).fit(x_train, y_train)"
      ],
      "metadata": {
        "id": "1aw93YbdaRaw"
      },
      "execution_count": null,
      "outputs": []
    },
    {
      "cell_type": "code",
      "source": [
        "# accuracy 확인하기\n",
        "print(\"Train Accuracy: {:.3f}\".format(model.score(x_train, y_train)))\n",
        "print(\"Test Accuracy: {:.3f}\".format(model.score(x_test, y_test)))"
      ],
      "metadata": {
        "id": "7jUNq2YjcqDR",
        "colab": {
          "base_uri": "https://localhost:8080/"
        },
        "outputId": "242950b9-5433-43ca-a849-07943386b48b"
      },
      "execution_count": null,
      "outputs": [
        {
          "output_type": "stream",
          "name": "stdout",
          "text": [
            "Train Accuracy: 0.986\n",
            "Test Accuracy: 0.958\n"
          ]
        }
      ]
    },
    {
      "cell_type": "code",
      "source": [],
      "metadata": {
        "id": "l4-ycMu4cqwJ"
      },
      "execution_count": null,
      "outputs": []
    }
  ]
}